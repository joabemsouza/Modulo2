{
 "cells": [
  {
   "cell_type": "markdown",
   "metadata": {},
   "source": [
    "# Programação Python para Ciência de Dados\n",
    "\n",
    "## Homework Python II e III"
   ]
  },
  {
   "cell_type": "markdown",
   "metadata": {},
   "source": [
    "#### 1) Considere a matriz (lista de listas) abaixo:"
   ]
  },
  {
   "cell_type": "code",
   "execution_count": 1,
   "metadata": {
    "collapsed": true
   },
   "outputs": [],
   "source": [
    "mat = [\n",
    "    ['supervisor', 'producao', 'Carlos'],\n",
    "    ['assistente', 'producao', 'Lucas'],\n",
    "    ['iniciante', 'pesquisador', 'Jeremias'],\n",
    "    ['supervisor', 'manufatura', 'Alberto'],\n",
    "    ['gerente', 'manufatura', 'Ricardo'],\n",
    "    ['engenheiro', 'manufatura', 'Fernando'],\n",
    "]"
   ]
  },
  {
   "cell_type": "markdown",
   "metadata": {},
   "source": [
    "##### a) Utilize list comprehension para gerar uma lista que contenha o nome dos funcionários que não são pesquisadores. Se o funcionário for gerente, inclua '_g' no final de seu nome.\n",
    "\n",
    "_Dica: lembre que é possível iterar vários elementos de uma vez usando um_ `for` _. Exemplo:_\n",
    "\n",
    "```python\n",
    "var = [\n",
    "    [1, 0],\n",
    "    [0, 2],\n",
    "    [0, 0]\n",
    "]\n",
    "for a, b in var:\n",
    "    print(b, a)\n",
    "```\n",
    "    output:\n",
    "    0 1\n",
    "    2 0\n",
    "    0 0"
   ]
  },
  {
   "cell_type": "code",
   "execution_count": 22,
   "metadata": {},
   "outputs": [
    {
     "name": "stdout",
     "output_type": "stream",
     "text": [
      "['Carlos', 'Lucas', 'Alberto', 'Ricardo_g', 'Fernando']\n",
      "['Carlos', 'Lucas', 'error', 'Alberto', 'Ricardo_g', 'Fernando']\n"
     ]
    }
   ],
   "source": [
    "# Forma 1\n",
    "lista_pesq = []\n",
    "for a,b,c in mat:\n",
    "    if b != \"pesquisador\" and a == \"gerente\":\n",
    "        lista_pesq.append(c+\"_g\")\n",
    "    elif b != \"pesquisador\":\n",
    "            lista_pesq.append(c)\n",
    "            \n",
    "print(lista_pesq)\n",
    "\n",
    "# Forma 2\n",
    "#lista_pesq2 = []\n",
    "lista_pesq2 = [c+\"_g\" if b != \"pesquisador\" and a == \"gerente\" else c if b!= \"pesquisador\" and a != \"gerente\" else \"error\" for a,b,c in mat]\n",
    "print(lista_pesq2)"
   ]
  },
  {
   "cell_type": "markdown",
   "metadata": {},
   "source": [
    "##### b) Refaça o exercício anterior, porém utilizando os comando `map` e `filter` em vez de  list comprehension"
   ]
  },
  {
   "cell_type": "code",
   "execution_count": 68,
   "metadata": {},
   "outputs": [
    {
     "name": "stdout",
     "output_type": "stream",
     "text": [
      "['Carlos', 'Lucas', 'Alberto', 'Ricardo_g', 'Fernando']\n"
     ]
    }
   ],
   "source": [
    "def func1(index):\n",
    "    if mat[index][0] != \"gerente\":\n",
    "        return mat[index][2]\n",
    "    else:\n",
    "        return mat[index][2]+\"_g\"\n",
    "\n",
    "\n",
    "l_n_pesq = list(filter(lambda x: mat[x][1] != \"pesquisador\",range(0,len(mat))))\n",
    "l= list(map(func1,l_n_pesq))\n",
    "print(l)\n",
    "\n"
   ]
  },
  {
   "cell_type": "markdown",
   "metadata": {},
   "source": [
    "##### c) Crie um dicionário da forma `nome:(cargo, area)`. Utilize comprehension para isso."
   ]
  },
  {
   "cell_type": "code",
   "execution_count": 70,
   "metadata": {},
   "outputs": [
    {
     "name": "stdout",
     "output_type": "stream",
     "text": [
      "{'supervisor': 'manufatura', 'assistente': 'producao', 'iniciante': 'pesquisador', 'gerente': 'manufatura', 'engenheiro': 'manufatura'}\n"
     ]
    }
   ],
   "source": [
    "dict = {mat[x][0]: mat[x][1] for x in range(0,len(mat))}\n",
    "print(dict)"
   ]
  },
  {
   "cell_type": "markdown",
   "metadata": {},
   "source": [
    "#### d) Construa uma versão modificada da matriz `mat` de maneira que o nome apareça antes de cargo e área de atuação em cada entrada.\n"
   ]
  },
  {
   "cell_type": "code",
   "execution_count": 73,
   "metadata": {},
   "outputs": [
    {
     "name": "stdout",
     "output_type": "stream",
     "text": [
      "[['Carlos', 'supervisor', 'producao'], ['Lucas', 'assistente', 'producao'], ['Jeremias', 'iniciante', 'pesquisador'], ['Alberto', 'supervisor', 'manufatura'], ['Ricardo', 'gerente', 'manufatura'], ['Fernando', 'engenheiro', 'manufatura']]\n"
     ]
    }
   ],
   "source": [
    "mat_mod = [[mat[x][2], mat[x][0],mat[x][1]] for x in range(0,len(mat))]\n",
    "print(mat_mod)"
   ]
  },
  {
   "cell_type": "markdown",
   "metadata": {},
   "source": [
    "#### 2) Utilize list comprehension para gerar a seguinte matriz\n",
    "\n",
    "```python\n",
    "[[1, 0, 0, 0],\n",
    " [0, 2, 0, 0],\n",
    " [0, 0, 3, 0],\n",
    " [0, 0, 0, 4]]\n",
    "\n",
    "```"
   ]
  },
  {
   "cell_type": "code",
   "execution_count": 109,
   "metadata": {},
   "outputs": [
    {
     "name": "stdout",
     "output_type": "stream",
     "text": [
      "[[1, 0, 0, 0], [0, 2, 0, 0], [0, 0, 3, 0], [0, 0, 0, 4]]\n"
     ]
    }
   ],
   "source": [
    "mat_list = [[i+1 if i==j else 0 for j in range(4)] for i in range(4)]\n",
    "print(mat_list)\n",
    "#l = []\n",
    "\n",
    "#for x in range(4):\n",
    "#    l_in = []\n",
    "#    for y in range(4):\n",
    "#        if x==y:\n",
    "#            l_in.append(x+1)\n",
    "#        else:\n",
    "#            l_in.append(0)\n",
    "#    l.append(l_in)\n",
    "        \n",
    "#print(l)\n",
    "\n"
   ]
  },
  {
   "cell_type": "markdown",
   "metadata": {},
   "source": [
    "#### 3) Utilize list comprehension para gerar a seguinte estrutura\n",
    "\n",
    "```python\n",
    "[[1],\n",
    " [1, 2],\n",
    " [1, 2, 3],\n",
    " [1, 2, 3, 4]]\n",
    "\n",
    "```"
   ]
  },
  {
   "cell_type": "code",
   "execution_count": 113,
   "metadata": {},
   "outputs": [
    {
     "name": "stdout",
     "output_type": "stream",
     "text": [
      "[[1], [1, 2], [1, 2, 3], [1, 2, 3, 4]]\n"
     ]
    }
   ],
   "source": [
    "mat_list = [[j+1 for j in range(0,i+1)] for i in range(4)]\n",
    "print(mat_list)"
   ]
  },
  {
   "cell_type": "markdown",
   "metadata": {},
   "source": [
    "#### 4) Construa uma função que gera um dicionário onde as chaves são todas as variações de uma palavra com um caracter removido, e o valor é a palavra original. Por exemplo:\n",
    "\n",
    "- casa<br>\n",
    "dicionario gerado:<br>\n",
    "asa: casa<br>\n",
    "csa: casa<br>\n",
    "caa: casa<br>\n",
    "cas: casa<br>"
   ]
  },
  {
   "cell_type": "code",
   "execution_count": 22,
   "metadata": {},
   "outputs": [
    {
     "name": "stdout",
     "output_type": "stream",
     "text": [
      "{'asa': 'casa', 'csa': 'casa', 'caa': 'casa', 'cas': 'casa'}\n"
     ]
    }
   ],
   "source": [
    "test_string = \"casa\"\n",
    "dict = {test_string[0:i]+test_string[i+1:]: test_string for i in range (len(test_string))}\n",
    "print(dict)"
   ]
  },
  {
   "cell_type": "markdown",
   "metadata": {},
   "source": [
    "#### 5) Construa uma função que recebe dois dicionários como parâmetros e concatena ambos em um único dicionário contendo as chaves e valores dos dois  dicionários enviados como parâmetros."
   ]
  },
  {
   "cell_type": "code",
   "execution_count": 143,
   "metadata": {},
   "outputs": [
    {
     "name": "stdout",
     "output_type": "stream",
     "text": [
      "{1: 'one', 2: 'two'}\n",
      "{1: 'one', 2: 'two', 3: 'three'}\n"
     ]
    }
   ],
   "source": [
    "def concat(dict1,dict2):\n",
    "    d = {}\n",
    "    d.update(dict1)\n",
    "    d.update(dict2)\n",
    "    return d\n",
    "\n",
    "d1 = {1: \"one\", 2: \"three\"}\n",
    "d2 = {2: \"two\"}\n",
    "d = concat(d1,d2)\n",
    "print(d)\n",
    "d2 = {3: \"three\"}\n",
    "d = concat(d,d2)\n",
    "print(d)"
   ]
  },
  {
   "cell_type": "markdown",
   "metadata": {},
   "source": [
    "#### 6) Construa uma classe chamada `Corretor` com as seguintes especificações:\n",
    "- o construtor da classe carrega o arquivo de palavras _corpus.txt_ (contém uma palavra por linha) e gera um dicionário como descrito no exercício 4). Para isso, a classe deve possuir métodos combinando as funções desenvolvidas no exercíos 4) e 5), gerando um único dicionário para todas as palavras lidas do arquivo. \n",
    "- a classe deve possuir um método chamado `sugere`, onde, dada uma palavra presente no arquivo _corpus.txt_, verifica a ortografia da mesma. Caso a palavra não esteja correta (um caracter faltante), o método deve apontar a ortografia correta.\n",
    "\n",
    "#### Crie um arquivo chamado YYY.py contendo a classe gerada."
   ]
  },
  {
   "cell_type": "code",
   "execution_count": 78,
   "metadata": {},
   "outputs": [
    {
     "name": "stdout",
     "output_type": "stream",
     "text": [
      "Overwriting YYY.py\n"
     ]
    }
   ],
   "source": [
    "%%writefile YYY.py \n",
    "\n",
    "class Corretor():\n",
    "    def __init__(self,in_name_arquivo = None):\n",
    "        self.name_arquivo = in_name_arquivo\n",
    "        self.creat_dict()\n",
    "        \n",
    "    def le_arquivo (self):\n",
    "        f = open(self.name_arquivo,'r') # sai zoado pq tem que codificar direito\n",
    "        lines = f.readlines()\n",
    "        lines = [line.rstrip('\\n') for line in lines]\n",
    "        return(lines)\n",
    "\n",
    "    def creat_dict(self):\n",
    "        lines = self.le_arquivo()\n",
    "        dict={}\n",
    "        for test_str in lines:\n",
    "            dict1 = {test_str[0:i]+test_str[i+1:]: test_str for i in range (len(test_str))}\n",
    "            dict.update(dict1)\n",
    "        return dict\n",
    "            \n",
    "    def sugere(self, palavra):\n",
    "        dict = self.creat_dict()\n",
    "        sugerida = \"\"\n",
    "        for i in dict:\n",
    "            if palavra == i:\n",
    "                sugerida = dict[i]\n",
    "                break   \n",
    "            elif palavra == dict[i]:\n",
    "                sugerida = palavra\n",
    "                break\n",
    "                   \n",
    "        return sugerida\n",
    "\n",
    "    \n",
    "#x = Corretor('corpus.txt')\n",
    "#lines = x.le_arquivo()\n",
    "#dictt = x.creat_dict()\n",
    "#teste = x.sugere('palara')\n",
    "#print(teste)\n"
   ]
  },
  {
   "cell_type": "markdown",
   "metadata": {},
   "source": [
    "#### 7)** O código abaixo deve resultar em uma lista onde todas as entradas são \"True\"."
   ]
  },
  {
   "cell_type": "code",
   "execution_count": 79,
   "metadata": {},
   "outputs": [
    {
     "name": "stdout",
     "output_type": "stream",
     "text": [
      "[True, True, True, True, True, True]\n"
     ]
    }
   ],
   "source": [
    "import YYY as Y\n",
    "\n",
    "results = []\n",
    "x = Y.Corretor('corpus.txt')\n",
    "results.append(x.sugere('paavra') == 'palavra')\n",
    "results.append(x.sugere('cienci') == 'ciencia')\n",
    "results.append(x.sugere('daos') == 'dados')\n",
    "results.append(x.sugere('aditorio') == 'auditorio')\n",
    "results.append(x.sugere('estdo') == 'estudo')\n",
    "results.append(x.sugere('concntracao') == 'concentracao')\n",
    "\n",
    "print(results)"
   ]
  },
  {
   "cell_type": "markdown",
   "metadata": {},
   "source": [
    "__Extra:__\n",
    "\n",
    "O algoritmo acima só permite encontrar a sugestão de palavra correta quando apenas um caracter tenha sido removido. A versão completa desse algoritmo chama-se __SymSpell__ e permite encontrar sugestões mesmo quando uma letra trocou de posição com outra. \n",
    "\n",
    "Para mais detalhes veja:\n",
    "\n",
    "- https://medium.com/@wolfgarbe/1000x-faster-spelling-correction-algorithm-2012-8701fcd87a5f\n",
    "\n",
    "- https://github.com/wolfgarbe/SymSpell"
   ]
  },
  {
   "cell_type": "markdown",
   "metadata": {},
   "source": [
    "** faça upload de um notebook com a solução da questão 10 no google drive no diretório: <br><br>\n",
    "[http://tiny.cc/jadkdz](http://tiny.cc/jadkdz)\n",
    "\n",
    "O nome do notebook deve ser: <br><br>\n",
    "_seuprimeironome-seuultimonome-modulo1.ipynb_\n",
    "\n",
    "Por exemplo: _gustavo-nonato-modulo1.ipynb_"
   ]
  }
 ],
 "metadata": {
  "kernelspec": {
   "display_name": "Python 3",
   "language": "python",
   "name": "python3"
  },
  "language_info": {
   "codemirror_mode": {
    "name": "ipython",
    "version": 3
   },
   "file_extension": ".py",
   "mimetype": "text/x-python",
   "name": "python",
   "nbconvert_exporter": "python",
   "pygments_lexer": "ipython3",
   "version": "3.7.3"
  }
 },
 "nbformat": 4,
 "nbformat_minor": 2
}
