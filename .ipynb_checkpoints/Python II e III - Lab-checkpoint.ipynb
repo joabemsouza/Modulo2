{
 "cells": [
  {
   "cell_type": "markdown",
   "metadata": {},
   "source": [
    "# Programação Python para Ciência de Dados\n",
    "\n",
    "## Exercícios Python II e III"
   ]
  },
  {
   "cell_type": "markdown",
   "metadata": {},
   "source": [
    "#### 1) Refaça a lista de pessoas, coloque 'Super-Gustavo' no início da lista.<br> \n",
    "OBS: Existem muitas maneiras de realizar esta tarefa."
   ]
  },
  {
   "cell_type": "code",
   "execution_count": 9,
   "metadata": {},
   "outputs": [],
   "source": [
    "pessoas = ['Coelho-Bruno', 'Sutter-Gustavo', 'Veiga-Tobias', 'Super-Gustavo']"
   ]
  },
  {
   "cell_type": "code",
   "execution_count": 10,
   "metadata": {},
   "outputs": [
    {
     "name": "stdout",
     "output_type": "stream",
     "text": [
      "['Super-Gustavo', 'Veiga-Tobias', 'Sutter-Gustavo', 'Coelho-Bruno']\n"
     ]
    }
   ],
   "source": [
    "pessoas.reverse()\n",
    "print(pessoas)"
   ]
  },
  {
   "cell_type": "markdown",
   "metadata": {},
   "source": [
    "#### 3) Encontre o nome mais curto e o nome mais longo da lista. Encontre duas formas de realizar a tarefa e tente imaginar qual é a mais eficiente."
   ]
  },
  {
   "cell_type": "code",
   "execution_count": 39,
   "metadata": {},
   "outputs": [
    {
     "name": "stdout",
     "output_type": "stream",
     "text": [
      "Veiga-Tobias Sutter-Gustavo\n",
      "Veiga-Tobias\n",
      "Sutter-Gustavo\n"
     ]
    }
   ],
   "source": [
    "#ordenado = sorted(pessoas, key = len)\n",
    "menor = min(pessoas, key = len)\n",
    "maior = max(pessoas, key = len)\n",
    "#print(ordenado[0], ordenado[-1])\n",
    "print(menor, maior)\n",
    "\n",
    "longo = 0\n",
    "curto = 100\n",
    "\n",
    "for nome in pessoas:\n",
    "\n",
    "\n",
    "    if len(nome)>longo:\n",
    "        longo = len(nome)\n",
    "        nome_longo = nome\n",
    "    elif  len(nome)<curto:\n",
    "        curto = len(nome)\n",
    "        nome_curto = nome\n",
    "        \n",
    "print(nome_curto)\n",
    "print(nome_longo)"
   ]
  },
  {
   "cell_type": "markdown",
   "metadata": {},
   "source": [
    "#### 4) Modifique a lista `pessoas` adicionando a substring 'er' no final de cada entrada. Para isso utilize o comando append."
   ]
  },
  {
   "cell_type": "code",
   "execution_count": 28,
   "metadata": {},
   "outputs": [
    {
     "name": "stdout",
     "output_type": "stream",
     "text": [
      "['Super-Gustavoer', 'Veiga-Tobiaser', 'Sutter-Gustavoer', 'Coelho-Brunoer']\n"
     ]
    }
   ],
   "source": [
    "out = []\n",
    "for p in pessoas:\n",
    "    out.append(p+'er')\n",
    "print(out)"
   ]
  },
  {
   "cell_type": "markdown",
   "metadata": {},
   "source": [
    "#### 5) Modifique a lista `pessoas` adicionando a substring 'er' no final de cada entrada. Para isso utilize  list comprehension."
   ]
  },
  {
   "cell_type": "code",
   "execution_count": 31,
   "metadata": {},
   "outputs": [
    {
     "name": "stdout",
     "output_type": "stream",
     "text": [
      "['Super-Gustavoer', 'Veiga-Tobiaser', 'Sutter-Gustavoer', 'Coelho-Brunoer']\n"
     ]
    }
   ],
   "source": [
    "out = [p + 'er' for p in pessoas]\n",
    "print(out)"
   ]
  },
  {
   "cell_type": "code",
   "execution_count": null,
   "metadata": {},
   "outputs": [],
   "source": []
  },
  {
   "cell_type": "markdown",
   "metadata": {},
   "source": [
    "#### 6) Crie um dicionário cujas chaves são as strings criadas no exercício anterior e como valor o comprimento das strings."
   ]
  },
  {
   "cell_type": "code",
   "execution_count": 34,
   "metadata": {},
   "outputs": [
    {
     "name": "stdout",
     "output_type": "stream",
     "text": [
      "{'Super-Gustavoer': 15, 'Veiga-Tobiaser': 14, 'Sutter-Gustavoer': 16, 'Coelho-Brunoer': 14}\n"
     ]
    }
   ],
   "source": [
    "dt = {x:len(x) for x in out}\n",
    "print(dt)"
   ]
  },
  {
   "cell_type": "markdown",
   "metadata": {},
   "source": [
    "#### 7) Crie uma função que retorna a substring que ocorre antes de cada hífen de cada entrada da lista `pessoas`.\n",
    "\n",
    "_Dica_: use uma função para encontrar o índice do hífen em cada entrada da lista."
   ]
  },
  {
   "cell_type": "code",
   "execution_count": 50,
   "metadata": {},
   "outputs": [
    {
     "name": "stdout",
     "output_type": "stream",
     "text": [
      "['Super', 'Veiga', 'Sutter', 'Coelho']\n"
     ]
    }
   ],
   "source": [
    "\n",
    "#print(a)\n",
    "def subs(l):\n",
    "    lista_out = [p[:p.index('-')] for p in l]\n",
    " #   lista_out = []\n",
    " #   for nome in l:\n",
    " #       id = nome.index('-')\n",
    " #       lista_out.append(nome[id-1])\n",
    "    return lista_out\n",
    "\n",
    "aa = subs(pessoas)\n",
    "print(aa)"
   ]
  },
  {
   "cell_type": "markdown",
   "metadata": {},
   "source": [
    "#### 8) Escreva cada nome da lista em um arquivo separado.\n",
    "\n",
    "*Dica*: Dê nomes simples aos arquivos como 'arquivo1.txt' para facilitar o uso destes arquivos nos próximos exercícios. Um exemplo de comando para gerar um nome simples seria:\n",
    "```python\n",
    "'arquivo' + str(i) + '.txt'\n",
    "```\n",
    "onde `i` é um índice para iterar na sequência de nomes."
   ]
  },
  {
   "cell_type": "code",
   "execution_count": 52,
   "metadata": {},
   "outputs": [],
   "source": [
    "#i=1\n",
    "#for p in pessoas:\n",
    "#    with open('arquivo' + str(i) + '.txt', 'w') as f:\n",
    "#        f.write(p)\n",
    "#    i += 1\n",
    "for i,p in enumerate(pessoas): #Ele retorna o contador tbm\n",
    "    with open('arquivo' + str(i) + '.txt', 'w') as f:\n",
    "        f.write(p)"
   ]
  },
  {
   "cell_type": "markdown",
   "metadata": {},
   "source": [
    "#### 9) Para cada arquivo criado no exercício anterior, leia o arquivo, aplique a função criada no exercício 7) para pegar a substring que precede o hífen e escreva esta substringue no mesmo arquivo."
   ]
  },
  {
   "cell_type": "code",
   "execution_count": 57,
   "metadata": {},
   "outputs": [],
   "source": [
    "a = open('append.txt','a')\n",
    "\n",
    "for i in range(4):\n",
    "    with open('arquivo' + str(i) + '.txt', 'r') as f:\n",
    "        a.write(temp[:temp.index('-')])\n",
    "\n",
    "a.close()"
   ]
  },
  {
   "cell_type": "markdown",
   "metadata": {},
   "source": [
    "#### 10) Crie uma classe que contém,  como métodos, algumas das funções desenvolvidas nos exercícios anteriores. A especificação mais detalhada encontra-se abaixo."
   ]
  },
  {
   "cell_type": "markdown",
   "metadata": {},
   "source": [
    "A classe deve seguir possuir:\n",
    "- Um inicializador que\n",
    "    - recebe o nome de um arquivo de saída\n",
    "    - salva esse nome numa variável\n",
    "- Um método chamado `string_inicial` que retorna a substring que precede um hífen presente em uma string enviada como parâmetro.\n",
    "- Um método chamado `escrever` que:\n",
    "     - recebe uma string\n",
    "     - extrai a substring que precede o hífen\n",
    "     - escreve esta substring no final do arquivo de saída\n",
    "- Um método chamado `alterar_saida` que altera o nome do arquivo de saída utilizando como novo nome o parâmetro de entrada\n",
    "- Uma sobrecarga no método padrão **\\_\\_del\\_\\_** de maneira que, antes de uma instância ser removida da lista enviada como parâmetro,  a mensagem _'Adeus!'_ seja impressa. "
   ]
  },
  {
   "cell_type": "code",
   "execution_count": null,
   "metadata": {},
   "outputs": [],
   "source": [
    "class MaquinaDeNomes():\n",
    "    def __init__(self, nome_arquivo_saida):\n",
    "    self.nome_arquivo_saida = nome_arquivo_saida\n",
    "    \n",
    "    def string_inicial(self,nome):\n",
    "        fdsafas\n",
    "    \n",
    "    def escrever(self,nome):\n",
    "        pnome = self.string_inicial(nome)\n",
    "        with open(self.nome_arquivo_saida,'a') as f:\n",
    "            f.write(pnome)\n",
    "            \n",
    "    def __del__(self):\n",
    "        print('Adeus')\n",
    "        del self"
   ]
  },
  {
   "cell_type": "code",
   "execution_count": null,
   "metadata": {},
   "outputs": [],
   "source": [
    "# Utilize o código abaixo para testar sua classe\n",
    "\n",
    "maq = MaquinaDeNomes('maqtest1.txt')\n",
    "\n",
    "maq.escrever('arquivo1.txt')\n",
    "maq.escrever('arquivo2.txt')\n",
    "\n",
    "with open('maqtest1.txt') as f:\n",
    "    print(f.read())\n",
    "    \n",
    "maq.alterar_saida('maqtest2.txt')\n",
    "\n",
    "maq.escrever('arquivo0.txt')\n",
    "maq.escrever('arquivo3.txt')\n",
    "\n",
    "with open('maqtest2.txt') as f:\n",
    "    print(f.read())\n",
    "    \n",
    "del maq"
   ]
  },
  {
   "cell_type": "markdown",
   "metadata": {},
   "source": [
    "#### 11) Crie um módulo que contenha a classe criada. Insira os casos de teste no módulo também, mas de maneira que eles não sejam executados sempre que o módulo for importado."
   ]
  },
  {
   "cell_type": "code",
   "execution_count": null,
   "metadata": {},
   "outputs": [],
   "source": [
    "%%writefile modulo.py\n"
   ]
  }
 ],
 "metadata": {
  "kernelspec": {
   "display_name": "Python 3",
   "language": "python",
   "name": "python3"
  },
  "language_info": {
   "codemirror_mode": {
    "name": "ipython",
    "version": 3
   },
   "file_extension": ".py",
   "mimetype": "text/x-python",
   "name": "python",
   "nbconvert_exporter": "python",
   "pygments_lexer": "ipython3",
   "version": "3.7.3"
  }
 },
 "nbformat": 4,
 "nbformat_minor": 2
}
